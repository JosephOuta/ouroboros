{
 "cells": [
  {
   "cell_type": "markdown",
   "id": "d1b6e712-9c3b-4d64-9c1a-39dc73bd964d",
   "metadata": {},
   "source": [
    "# My Dog Ate My Twin... Study\n",
    "### A Little Bit of Everything Through A Worked Example\n",
    "\n",
    "Over the last 90 years your medical school has collected longitudinal height data\n",
    "from pairs of identical twins. Each individual is assigned a random ID number when\n",
    "they join the study. Data collected is linked to a subject's ID rather than their name\n",
    "in order to protect the identity.\n",
    "\n",
    "The red floppy-disk linking subject ID, name, and co-twin\n",
    "was mistaken by the bosses dog--its owner has a soft spot for retro-kitsch dog toys--as \n",
    "a retro-kitsch dog toy.\n",
    "\n",
    "Fortunately, the team has all of the ID linked records stored on an SSD,\n",
    "the dog doesn't have a taste for the modern, some semi-unique identifying \n",
    "information is collected from subjects during height collection, and you \n",
    "are on the job.\n",
    "\n",
    "**You must** (a) relink twins and (b) come up with a visualization to show off your twin\n",
    "linking skills.\n",
    "\n",
    "#### Suggested Approach\n",
    "\n",
    "1. Take a quick look at your data. It is stored in the `raw_data/` directory off of\n",
    "this `./notebooks/` directory. A `.csv` file can be viewed in any text editor.\n",
    "1. After skimming the data take a moment to consider the various inroads, potenital\n",
    "pitfalls, and edge-cases.\n",
    "1. Write an approach out _in words_, like a logical cascade.\n",
    "1. Pseudo-code your solution. This step should be about picking a 'decomposition' of\n",
    "the problem that will allow you to solve the problem in easy to grok chunks of code \n",
    "(functions please).\n",
    "1. Code it up. Push yourself to make a module, better yet add it to your local `ourorboros`\n",
    "directory.\n"
   ]
  },
  {
   "cell_type": "markdown",
   "id": "30f11138-3f60-4a5c-98bb-fffaa287f3e4",
   "metadata": {},
   "source": [
    "# Take a Look at Your Data\n",
    "---\n",
    "What do you notice that could come in handy when you are solving this problem."
   ]
  },
  {
   "cell_type": "markdown",
   "id": "c6734a2c-9f07-476f-917f-acde36d5244a",
   "metadata": {},
   "source": [
    "### Notes:\n",
    "- im a note\n",
    "1. im a list\n",
    "- [ ] im a checkbox"
   ]
  },
  {
   "cell_type": "markdown",
   "id": "920a0d96-a079-449b-9a5c-bdbb6e6c9836",
   "metadata": {},
   "source": [
    "# Pitfalls and Edgecases\n",
    "---\n",
    "What are some bad assumptions that could get us into trouble?"
   ]
  },
  {
   "cell_type": "markdown",
   "id": "b8222f55-03f8-4194-bc1d-51765a17185b",
   "metadata": {},
   "source": [
    "### Notes:\n",
    "- im a note\n",
    "1. im a list\n",
    "- [ ] im a checkbox"
   ]
  },
  {
   "cell_type": "markdown",
   "id": "141dc927-618a-46b9-9692-96e7bebed677",
   "metadata": {},
   "source": [
    "# Write out your approach\n",
    "---\n",
    "Do this first, and keep it the same. It will be fun to see if/how your approach ended up."
   ]
  },
  {
   "cell_type": "markdown",
   "id": "c2a1238b-03d1-4f66-b8e0-5b2efa7eae83",
   "metadata": {},
   "source": [
    "## My Approach\n",
    "I'm gonna crush it!"
   ]
  },
  {
   "cell_type": "markdown",
   "id": "dfdeffe7-12fa-4781-a763-06b7579d1eeb",
   "metadata": {},
   "source": [
    "# Pseudo-code\n",
    "---\n",
    "This is when you can start to plan. Be as specific as you like up to your familiarity with python (e.g. \"list from 0 to 9\" to `[val for val in range(10)]`). Think carefully about how tasks can be broken out into reusable functions."
   ]
  },
  {
   "cell_type": "markdown",
   "id": "d5d9a516-ed51-4c43-aa78-d73d2c22b21d",
   "metadata": {},
   "source": [
    "## Pseudo Code can be linted if you like, or just write text.\n",
    "```python\n",
    "def iThink(you_sure_are):\n",
    "    return generate_a_huge_complement_somehow\n",
    "```\n",
    "\n",
    "def iThink(you_sure_are):\n",
    "\n",
    "    return generate_a_huge_compliment_somehow"
   ]
  },
  {
   "cell_type": "markdown",
   "id": "fa41a713-eb9a-4b33-acb2-07e1878903a2",
   "metadata": {},
   "source": [
    "# Code it Up!!\n",
    "---\n",
    "Your solution should be down in the cells here (dont forget to import the tools you need).\n",
    "\n",
    "If you already have some python under your belt push yourself to write a module. Witha module you should\n",
    "be able to `pip install -e .` the package, and `from ouroboros import <dog_ate_my_twin_tools> as dogfix`\n",
    "to use your functions in the notebook."
   ]
  },
  {
   "cell_type": "code",
   "execution_count": null,
   "id": "826e881e-66f4-4f73-9cea-5a1f315f13cf",
   "metadata": {},
   "outputs": [],
   "source": []

  }
 ],
 "metadata": {
  "jupytext": {
   "formats": "ipynb,py,md"
  },
  "kernelspec": {
   "display_name": "Python 3 (ipykernel)",
   "language": "python",
   "name": "python3"
  },
  "language_info": {
   "codemirror_mode": {
    "name": "ipython",
    "version": 3
   },
   "file_extension": ".py",
   "mimetype": "text/x-python",
   "name": "python",
   "nbconvert_exporter": "python",
   "pygments_lexer": "ipython3",
   "version": "3.9.5"
  }
 },
 "nbformat": 4,
 "nbformat_minor": 5
}
